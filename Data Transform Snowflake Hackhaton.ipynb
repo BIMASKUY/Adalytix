{
 "metadata": {
  "kernelspec": {
   "display_name": "Streamlit Notebook",
   "name": "streamlit"
  },
  "lastEditStatus": {
   "notebookId": "5nvsl4adrbj3c6b2crds",
   "authorId": "1046070585702",
   "authorName": "RIDHOAL",
   "authorEmail": "ridhoalfathnusantara@apps.ipb.ac.id",
   "sessionId": "5d307198-0808-4f14-b393-9bdd70fb45f0",
   "lastEditTime": 1761742530160
  }
 },
 "nbformat_minor": 5,
 "nbformat": 4,
 "cells": [
  {
   "cell_type": "code",
   "id": "3775908f-ca36-4846-8f38-5adca39217f2",
   "metadata": {
    "language": "python",
    "name": "cell1"
   },
   "source": "# Import python packages\nimport streamlit as st\nimport pandas as pd\nimport numpy as np\n\n# We can also use Snowpark for our analyses!\nfrom snowflake.snowpark.context import get_active_session\nsession = get_active_session()\n",
   "execution_count": null,
   "outputs": []
  },
  {
   "cell_type": "code",
   "id": "8d50cbf4-0c8d-4950-86cb-114990437ac9",
   "metadata": {
    "language": "python",
    "name": "cell2"
   },
   "source": "df_mkt = (\n    session.read.option(\"FIELD_OPTIONALLY_ENCLOSED_BY\", '\"')\n    .csv(\"@stg_raw/marketing_campaign_dataset.csv\")\n    .to_pandas()\n)",
   "execution_count": null,
   "outputs": []
  },
  {
   "cell_type": "code",
   "id": "a9c19559-102c-41df-8b93-8331bcc571cf",
   "metadata": {
    "language": "python",
    "name": "cell4"
   },
   "outputs": [],
   "source": "df_mkt.head(20)",
   "execution_count": null
  },
  {
   "cell_type": "code",
   "id": "e8be9c2c-a301-4cca-8997-e88ec7bf1002",
   "metadata": {
    "language": "python",
    "name": "cell3"
   },
   "outputs": [],
   "source": "print(\"Row marketing:\", len(df_mkt))\ndf_mkt.info()",
   "execution_count": null
  },
  {
   "cell_type": "code",
   "id": "f2405a49-e31f-44b8-9961-923d8de085fb",
   "metadata": {
    "language": "python",
    "name": "cell5"
   },
   "outputs": [],
   "source": "# Convert row-0 as header\ndf_mkt.columns = df_mkt.iloc[0]\ndf_mkt = df_mkt[1:].reset_index(drop=True)\n\n#convert header to lowercase\ndf_mkt.columns = df_mkt.columns.str.strip().str.lower()",
   "execution_count": null
  },
  {
   "cell_type": "code",
   "id": "377c4cd8-51e9-43a9-9f68-07e4d5fba219",
   "metadata": {
    "language": "python",
    "name": "cell6"
   },
   "outputs": [],
   "source": "df_mkt.head()",
   "execution_count": null
  },
  {
   "cell_type": "code",
   "id": "f133be90-8ed1-422a-9f4e-f68e955cb23f",
   "metadata": {
    "language": "python",
    "name": "cell7"
   },
   "outputs": [],
   "source": "#Casting Datatype\n# Convert numeric fields\nnumeric_cols = [\"conversion_rate\", \"acquisition_cost\", \"roi\", \"clicks\", \"impressions\", \"engagement_score\"]\nfor col in numeric_cols:\n    if col in df_mkt.columns:\n        df_mkt[col] = pd.to_numeric(df_mkt[col].str.replace(r'[\\$,]', '', regex=True), errors='coerce')\n\n# Duration to numeric\nif \"duration\" in df_mkt.columns:\n    df_mkt[\"duration\"] = df_mkt[\"duration\"].str.extract(r'(\\d+)').astype(float).astype(\"Int64\")\n\n# Date to datetime\nif \"date\" in df_mkt.columns:\n    df_mkt[\"date\"] = pd.to_datetime(df_mkt[\"date\"], errors=\"coerce\")\n    df_mkt[\"campaign_year\"] = df_mkt[\"date\"].dt.year\n    df_mkt[\"campaign_month\"] = df_mkt[\"date\"].dt.month\n    df_mkt[\"campaign_quarter\"] = df_mkt[\"date\"].dt.quarter\n    df_mkt[\"campaign_weekday\"] = df_mkt[\"date\"].dt.day_name()\n    \n    df_mkt[\"date\"] = df_mkt[\"date\"].dt.strftime(\"%Y-%m-%d %H:%M:%S\")\n",
   "execution_count": null
  },
  {
   "cell_type": "code",
   "id": "e326f6a8-4071-489e-b6f7-515f76c8b286",
   "metadata": {
    "language": "python",
    "name": "cell8"
   },
   "outputs": [],
   "source": "print(df_mkt.dtypes)",
   "execution_count": null
  },
  {
   "cell_type": "code",
   "id": "ab532f84-56f3-4809-9e04-7a9bca32f531",
   "metadata": {
    "language": "python",
    "name": "cell9"
   },
   "outputs": [],
   "source": "df_mkt.head()",
   "execution_count": null
  },
  {
   "cell_type": "code",
   "id": "ad390174-145e-420a-b868-4a0407b4c8a2",
   "metadata": {
    "language": "python",
    "name": "cell10"
   },
   "outputs": [],
   "source": "#Outlier Removal\ndef remove_outliers_iqr(df, columns):\n    for col in columns:\n        Q1 = df[col].quantile(0.25)\n        Q3 = df[col].quantile(0.75)\n        IQR = Q3 - Q1\n        \n        lower = Q1 - 1.5*IQR\n        upper = Q3 + 1.5*IQR\n        \n        df = df[(df[col] >= lower) & (df[col] <= upper)]\n        \n    return df\n\nmkt_outlier_cols = [\n    \"duration\", \n    \"conversion_rate\",\n    \"acquisition_cost\",\n    \"roi\"\n]\n\ndf_mkt = remove_outliers_iqr(df_mkt, mkt_outlier_cols)\nprint(\"Marketing rows after:\", len(df_mkt))\n",
   "execution_count": null
  },
  {
   "cell_type": "code",
   "id": "b00bcb76-4822-4ad1-b00c-c2824bf8a2aa",
   "metadata": {
    "language": "python",
    "name": "cell16"
   },
   "outputs": [],
   "source": "df_mkt.head()",
   "execution_count": null
  },
  {
   "cell_type": "markdown",
   "id": "c29f351d-be69-4365-9c11-2233aa647f49",
   "metadata": {
    "name": "cell12",
    "collapsed": false
   },
   "source": "Feature Engineering"
  },
  {
   "cell_type": "code",
   "id": "8169fb3e-d1fd-4f04-b33d-09da4303f9c1",
   "metadata": {
    "language": "python",
    "name": "cell11"
   },
   "outputs": [],
   "source": "\n\n# Fitur rasio dan efisiensi\ndf_mkt[\"roi_per_cost\"] = df_mkt[\"roi\"] / (df_mkt[\"acquisition_cost\"] + 1e-6)\ndf_mkt[\"engagement_ratio\"] = df_mkt[\"clicks\"] / (df_mkt[\"impressions\"] + 1e-6)\ndf_mkt[\"cost_per_click\"] = df_mkt[\"acquisition_cost\"] / (df_mkt[\"clicks\"] + 1e-6)\ndf_mkt[\"cost_per_engagement\"] = df_mkt[\"acquisition_cost\"] / (df_mkt[\"engagement_score\"] + 1e-6)\n\n# Fitur kombinasi bisnis\ndf_mkt[\"audience_type\"] = df_mkt[\"target_audience\"] + \"_\" + df_mkt[\"customer_segment\"]\n\n# Tentukan threshold otomatis\nroi_thr = df_mkt[\"roi\"].mean()\neng_thr = df_mkt[\"engagement_score\"].mean()\ncost_thr = df_mkt[\"acquisition_cost\"].mean()\n\n# Fitur kategorikal tambahan\n\ndf_mkt[\"roi_level\"] = pd.qcut(df_mkt[\"roi\"], q=3, labels=[\"Low ROI\", \"Medium ROI\", \"High ROI\"])\ndf_mkt[\"engagement_level\"] = pd.qcut(df_mkt[\"engagement_score\"], q=3, labels=[\"Low Eng\", \"Medium Eng\", \"High Eng\"])\ndf_mkt[\"cost_efficiency\"] = pd.qcut(df_mkt[\"acquisition_cost\"], q=3, labels=[\"High Cost\", \"Medium Cost\", \"Low Cost\"])\n\ndf_mkt[\"is_high_roi\"] = (df_mkt[\"roi\"] > roi_thr).astype(int)\ndf_mkt[\"is_high_engagement\"] = (df_mkt[\"engagement_score\"] > eng_thr).astype(int)\ndf_mkt[\"is_cost_efficient\"] = (df_mkt[\"acquisition_cost\"] < cost_thr).astype(int)\n\n# Indeks performa gabungan\ndf_mkt[\"performance_index\"] = (\n    df_mkt[\"is_high_roi\"]\n    + df_mkt[\"is_high_engagement\"]\n    + df_mkt[\"is_cost_efficient\"]\n)\n\n\n# Indeks performa gabungan\ndf_mkt[\"performance_index\"] = (\n    df_mkt[\"is_high_roi\"]\n    + df_mkt[\"is_high_engagement\"]\n    + df_mkt[\"is_cost_efficient\"]\n)\n",
   "execution_count": null
  },
  {
   "cell_type": "code",
   "id": "515d1a35-8dd8-4190-8dcc-473c45de56ff",
   "metadata": {
    "language": "python",
    "name": "cell13"
   },
   "outputs": [],
   "source": "df_mkt.head()",
   "execution_count": null
  },
  {
   "cell_type": "code",
   "id": "17384bed-ee60-461c-a5e8-bf21e3683921",
   "metadata": {
    "language": "python",
    "name": "cell14"
   },
   "outputs": [],
   "source": "# Save Dataframe to Table\nsession.write_pandas(df_mkt, \"MARKETING_CAMPAIGN\", auto_create_table=True, overwrite=True)\n",
   "execution_count": null
  },
  {
   "cell_type": "code",
   "id": "3684e67d-b162-4ef8-b05d-ed9f8afc473d",
   "metadata": {
    "language": "python",
    "name": "cell15"
   },
   "outputs": [],
   "source": "print(df_mkt.dtypes)",
   "execution_count": null
  }
 ]
}